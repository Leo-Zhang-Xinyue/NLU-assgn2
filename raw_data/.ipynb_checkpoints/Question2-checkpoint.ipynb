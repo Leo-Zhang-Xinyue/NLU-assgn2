{
 "cells": [
  {
   "cell_type": "code",
   "execution_count": 1,
   "metadata": {},
   "outputs": [],
   "source": [
    "import numpy as np\n",
    "import scipy.stats as stats\n",
    "import matplotlib.pyplot as plt"
   ]
  },
  {
   "cell_type": "code",
   "execution_count": 2,
   "metadata": {},
   "outputs": [],
   "source": [
    "def load_data(fname):\n",
    "    sents = []\n",
    "    with open(fname) as f:\n",
    "        for line in f:\n",
    "            sents.append(line.strip().split(' '))\n",
    "    return sents"
   ]
  },
  {
   "cell_type": "code",
   "execution_count": 3,
   "metadata": {},
   "outputs": [],
   "source": [
    "data_en = load_data('train.en')\n",
    "data_jp = load_data('train.jp')\n"
   ]
  },
  {
   "cell_type": "code",
   "execution_count": 4,
   "metadata": {},
   "outputs": [],
   "source": [
    "def distribution(data):\n",
    "    num = []\n",
    "    dis = {}\n",
    "    for i in range(len(data)):\n",
    "        num.append(len(data[i]))\n",
    "    for i in sorted(num):\n",
    "        if i in dis.keys():\n",
    "            dis[i] += 1\n",
    "        else:\n",
    "            dis[i] = 1\n",
    "    x = list(dis.keys())\n",
    "    y = list(dis.values())\n",
    "    pearson_corr = stats.pearsonr(x,y)\n",
    "    spearman_corr = stats.spearmanr(x,y)\n",
    "    return num, dis, pearson_corr[0], spearman_corr[0]     "
   ]
  },
  {
   "cell_type": "code",
   "execution_count": 5,
   "metadata": {},
   "outputs": [],
   "source": [
    "num_en, dis_en,pearson_corr_en, spearman_corr_en = distribution(data_en)\n",
    "num_jp, dis_jp,pearson_corr_jp, spearman_corr_jp = distribution(data_jp)"
   ]
  },
  {
   "cell_type": "code",
   "execution_count": 6,
   "metadata": {},
   "outputs": [
    {
     "name": "stdout",
     "output_type": "stream",
     "text": [
      "pearson correlation of English is -0.5624584932961707, Japanese is -0.5608380587223111; \n",
      "       Spearman correlation of English is -0.8460908061132236, Japanese is -0.7818490166757308\n"
     ]
    }
   ],
   "source": [
    "print('''pearson correlation of English is {}, Japanese is {}; \n",
    "       Spearman correlation of English is {}, Japanese is {}'''.format(\n",
    "        pearson_corr_en,pearson_corr_jp,spearman_corr_en,spearman_corr_jp))"
   ]
  },
  {
   "cell_type": "code",
   "execution_count": 7,
   "metadata": {},
   "outputs": [
    {
     "data": {
      "image/png": "[encoded data removed]",
      "text/plain": [
       "<Figure size 432x216 with 1 Axes>"
      ]
     },
     "metadata": {},
     "output_type": "display_data"
    }
   ],
   "source": [
    "fig_1 = plt.figure(figsize=(6, 3))\n",
    "ax_1 = fig_1.add_subplot(111)\n",
    "\n",
    "num_of_bins = 200\n",
    "\n",
    "ax_1.hist(num_en, density = True,bins = num_of_bins,label = 'English')\n",
    "ax_1.hist(num_jp, density = True,bins = num_of_bins,label = 'Japanese')\n",
    "\n",
    "ax_1.legend(loc='best',fontsize=11)\n",
    "\n",
    "ax_1.set_xlabel('lenth of sentence',fontsize = 12)\n",
    "ax_1.set_ylabel('Frequency',fontsize=12)\n",
    "ax_1.tick_params(direction = 'in')\n",
    "fig_1.tight_layout()\n",
    "fig_1.savefig('distribution of lengh of sentences.pdf')"
   ]
  },
  {
   "cell_type": "code",
   "execution_count": 11,
   "metadata": {},
   "outputs": [],
   "source": [
    "en_tokens = sum(num_en)\n",
    "jp_tokens = sum(num_jp)"
   ]
  },
  {
   "cell_type": "code",
   "execution_count": 23,
   "metadata": {
    "scrolled": true
   },
   "outputs": [],
   "source": [
    "def word(data):\n",
    "    word = {}\n",
    "    for i in data:\n",
    "        for j in i:\n",
    "            if j in word:\n",
    "                word[j] += 1\n",
    "            else:\n",
    "                word[j] = 1\n",
    "    return word"
   ]
  },
  {
   "cell_type": "code",
   "execution_count": 27,
   "metadata": {},
   "outputs": [],
   "source": [
    "word_en = word(data_en)\n",
    "word_jp = word(data_jp)"
   ]
  },
  {
   "cell_type": "code",
   "execution_count": 31,
   "metadata": {},
   "outputs": [
    {
     "data": {
      "text/plain": [
       "(7040, 8059)"
      ]
     },
     "execution_count": 31,
     "metadata": {},
     "output_type": "execute_result"
    }
   ],
   "source": [
    "len(word_en.keys()),len(word_jp.keys())"
   ]
  },
  {
   "cell_type": "code",
   "execution_count": 37,
   "metadata": {},
   "outputs": [],
   "source": [
    "def unk_num(word):\n",
    "    unk = 0\n",
    "    for i in word.keys():\n",
    "        if word[i] == 1:\n",
    "            unk += 1\n",
    "    return unk\n",
    "    "
   ]
  },
  {
   "cell_type": "code",
   "execution_count": 38,
   "metadata": {},
   "outputs": [],
   "source": [
    "unk_en = unk_num(word_en)\n",
    "unk_jp = unk_num(word_jp)"
   ]
  },
  {
   "cell_type": "code",
   "execution_count": 39,
   "metadata": {},
   "outputs": [
    {
     "data": {
      "text/plain": [
       "(3331, 4114)"
      ]
     },
     "execution_count": 39,
     "metadata": {},
     "output_type": "execute_result"
    }
   ],
   "source": [
    "unk_en, unk_jp"
   ]
  },
  {
   "cell_type": "code",
   "execution_count": null,
   "metadata": {},
   "outputs": [],
   "source": []
  },
  {
   "cell_type": "code",
   "execution_count": null,
   "metadata": {},
   "outputs": [],
   "source": []
  }
 ],
 "metadata": {
  "kernelspec": {
   "display_name": "Python 3",
   "language": "python",
   "name": "python3"
  },
  "language_info": {
   "codemirror_mode": {
    "name": "ipython",
    "version": 3
   },
   "file_extension": ".py",
   "mimetype": "text/x-python",
   "name": "python",
   "nbconvert_exporter": "python",
   "pygments_lexer": "ipython3",
   "version": "3.6.5"
  }
 },
 "nbformat": 4,
 "nbformat_minor": 2
}
